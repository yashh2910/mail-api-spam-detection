{
  "cells": [
    {
      "cell_type": "markdown",
      "metadata": {
        "id": "view-in-github",
        "colab_type": "text"
      },
      "source": [
        "<a href=\"https://colab.research.google.com/github/yashh2910/mail-api-spam-detection/blob/main/yolov5_for_classification-all-data-balanced.ipynb\" target=\"_parent\"><img src=\"https://colab.research.google.com/assets/colab-badge.svg\" alt=\"Open In Colab\"/></a>"
      ]
    },
    {
      "cell_type": "code",
      "execution_count": 21,
      "metadata": {
        "colab": {
          "base_uri": "https://localhost:8080/"
        },
        "id": "winUBnI2_ve4",
        "outputId": "85425496-4ef1-4044-c2f8-1715fd2352d9"
      },
      "outputs": [
        {
          "output_type": "stream",
          "name": "stdout",
          "text": [
            "fatal: destination path 'yolov5' already exists and is not an empty directory.\n",
            "/content/yolov5/yolov5\n"
          ]
        }
      ],
      "source": [
        "!git clone https://github.com/ultralytics/yolov5  # clone\n",
        "%cd yolov5\n",
        "%pip install -qr requirements.txt  # install"
      ]
    },
    {
      "cell_type": "code",
      "execution_count": 22,
      "metadata": {
        "colab": {
          "base_uri": "https://localhost:8080/"
        },
        "id": "aKmC7xVW_8s8",
        "outputId": "2d64a09a-1490-4253-bcda-b4ecf60d66ee"
      },
      "outputs": [
        {
          "output_type": "stream",
          "name": "stdout",
          "text": [
            "/content/yolov5\n"
          ]
        }
      ],
      "source": [
        "%cd /content/yolov5"
      ]
    },
    {
      "cell_type": "code",
      "execution_count": 23,
      "metadata": {
        "colab": {
          "base_uri": "https://localhost:8080/"
        },
        "id": "NzL9X0IGArSw",
        "outputId": "71502dc7-0f4b-4c8c-d3ac-0093bf79934d"
      },
      "outputs": [
        {
          "output_type": "stream",
          "name": "stdout",
          "text": [
            "Drive already mounted at /content/drive; to attempt to forcibly remount, call drive.mount(\"/content/drive\", force_remount=True).\n"
          ]
        }
      ],
      "source": [
        "# To mount your Google Drive\n",
        "from google.colab import drive\n",
        "drive.mount('/content/drive')"
      ]
    },
    {
      "cell_type": "code",
      "execution_count": 24,
      "metadata": {
        "id": "OWAoLS3sA5Ck"
      },
      "outputs": [],
      "source": [
        "!unzip -q '/content/drive/MyDrive/Severity/all_data_balanced.zip' -d /content"
      ]
    },
    {
      "cell_type": "code",
      "source": [
        "# !tar -xf /content/drive/MyDrive/frontbumper.tar.xz /content"
      ],
      "metadata": {
        "id": "tCDa3s8wGkN8"
      },
      "execution_count": 13,
      "outputs": []
    },
    {
      "cell_type": "code",
      "execution_count": 25,
      "metadata": {
        "colab": {
          "base_uri": "https://localhost:8080/"
        },
        "id": "bm1j4PkABIRq",
        "outputId": "e8c099e7-4a18-4535-dbdc-7d1c0547463d"
      },
      "outputs": [
        {
          "output_type": "stream",
          "name": "stdout",
          "text": [
            "/content\n",
            "/content/yolov5\n"
          ]
        }
      ],
      "source": [
        "%cd ..\n",
        "%cd /content/yolov5/"
      ]
    },
    {
      "cell_type": "code",
      "execution_count": 26,
      "metadata": {
        "colab": {
          "base_uri": "https://localhost:8080/"
        },
        "id": "bmdvw_e_DEx3",
        "outputId": "b1d4c348-d165-4084-fa6c-6e09aafdb56a"
      },
      "outputs": [
        {
          "output_type": "stream",
          "name": "stdout",
          "text": [
            "Setup complete. Using torch 2.0.1+cu118 _CudaDeviceProperties(name='Tesla T4', major=7, minor=5, total_memory=15101MB, multi_processor_count=40)\n"
          ]
        }
      ],
      "source": [
        "import torch\n",
        "print('Setup complete. Using torch %s %s' % (torch.__version__, torch.cuda.get_device_properties(0) if torch.cuda.is_available() else 'CPU'))"
      ]
    },
    {
      "cell_type": "code",
      "execution_count": 27,
      "metadata": {
        "colab": {
          "base_uri": "https://localhost:8080/"
        },
        "id": "ZzUJpwaiATuY",
        "outputId": "b9ad926b-93f3-4388-96a6-1adaec01b0e6"
      },
      "outputs": [
        {
          "output_type": "stream",
          "name": "stdout",
          "text": [
            "WARNING ⚠️ 'ultralytics.yolo.v8' is deprecated since '8.0.136' and will be removed in '8.1.0'. Please use 'ultralytics.models.yolo' instead.\n",
            "WARNING ⚠️ 'ultralytics.yolo.utils' is deprecated since '8.0.136' and will be removed in '8.1.0'. Please use 'ultralytics.utils' instead.\n",
            "Note this warning may be related to loading older models. You can update your model to current structure with:\n",
            "    import torch\n",
            "    ckpt = torch.load(\"model.pt\")  # applies to both official and custom models\n",
            "    torch.save(ckpt, \"updated-model.pt\")\n",
            "\n",
            "\u001b[34m\u001b[1mclassify/train: \u001b[0mmodel=yolov5l-cls.pt, data=/content/all_data_balanced, epochs=100, batch_size=64, imgsz=224, nosave=False, cache=None, device=0, workers=8, project=runs/train-cls, name=exp, exist_ok=False, pretrained=weights/yolov5l-cls.pt, optimizer=Adam, lr0=0.001, decay=5e-05, label_smoothing=0.1, cutoff=None, dropout=None, verbose=False, seed=0, local_rank=-1\n",
            "\u001b[34m\u001b[1mgithub: \u001b[0mup to date with https://github.com/ultralytics/yolov5 ✅\n",
            "YOLOv5 🚀 v7.0-193-g485da42 Python-3.10.12 torch-2.0.1+cu118 CUDA:0 (Tesla T4, 15102MiB)\n",
            "\n",
            "\u001b[34m\u001b[1mTensorBoard: \u001b[0mStart with 'tensorboard --logdir runs/train-cls', view at http://localhost:6006/\n",
            "\u001b[34m\u001b[1malbumentations: \u001b[0mRandomResizedCrop(p=1.0, height=224, width=224, scale=(0.08, 1.0), ratio=(0.75, 1.3333333333333333), interpolation=1), HorizontalFlip(p=0.5), ColorJitter(p=0.5, brightness=[0.6, 1.4], contrast=[0.6, 1.4], saturation=[0.6, 1.4], hue=[0, 0]), Normalize(p=1.0, mean=(0.485, 0.456, 0.406), std=(0.229, 0.224, 0.225), max_pixel_value=255.0), ToTensorV2(always_apply=True, p=1.0, transpose_mask=False)\n",
            "Model summary: 275 layers, 25275523 parameters, 25275523 gradients, 68.7 GFLOPs\n",
            "\u001b[34m\u001b[1moptimizer:\u001b[0m Adam(lr=0.001) with parameter groups 60 weight(decay=0.0), 61 weight(decay=5e-05), 61 bias\n",
            "Image sizes 224 train, 224 test\n",
            "Using 1 dataloader workers\n",
            "Logging results to \u001b[1mruns/train-cls/exp3\u001b[0m\n",
            "Starting yolov5l-cls.pt training on /content/all_data_balanced dataset with 3 classes for 100 epochs...\n",
            "\n",
            "     Epoch   GPU_mem  train_loss    val_loss    top1_acc    top5_acc\n",
            "     1/100     3.62G        1.19         1.1       0.333           1: 100% 29/29 [00:10<00:00,  2.80it/s]\n",
            "     2/100     4.35G        1.11         1.1       0.333           1: 100% 29/29 [00:08<00:00,  3.39it/s]\n",
            "     3/100     4.35G         1.1         1.1       0.333           1: 100% 29/29 [00:09<00:00,  2.93it/s]\n",
            "     4/100     4.35G         1.1         1.1       0.353           1: 100% 29/29 [00:09<00:00,  3.00it/s]\n",
            "     5/100     4.35G         1.1         1.1       0.355           1: 100% 29/29 [00:09<00:00,  3.02it/s]\n",
            "     6/100     4.35G         1.1         1.1       0.347           1: 100% 29/29 [00:08<00:00,  3.34it/s]\n",
            "     7/100     4.35G         1.1        1.09       0.318           1: 100% 29/29 [00:09<00:00,  2.92it/s]\n",
            "     8/100     4.35G         1.1        1.12       0.373           1: 100% 29/29 [00:09<00:00,  2.90it/s]\n",
            "     9/100     4.35G         1.1        1.09       0.333           1: 100% 29/29 [00:08<00:00,  3.27it/s]\n",
            "    10/100     4.35G        1.09        1.39       0.353           1: 100% 29/29 [00:09<00:00,  3.12it/s]\n",
            "    11/100     4.35G        1.09        1.12       0.369           1: 100% 29/29 [00:09<00:00,  2.95it/s]\n",
            "    12/100     4.35G        1.07        1.08       0.333           1: 100% 29/29 [00:09<00:00,  2.95it/s]\n",
            "    13/100     4.35G        1.08        1.09       0.373           1: 100% 29/29 [00:08<00:00,  3.31it/s]\n",
            "    14/100     4.35G        1.07        1.08       0.435           1: 100% 29/29 [00:10<00:00,  2.89it/s]\n",
            "    15/100     4.35G        1.07        1.09       0.366           1: 100% 29/29 [00:09<00:00,  2.91it/s]\n",
            "    16/100     4.35G        1.07        1.11       0.377           1: 100% 29/29 [00:09<00:00,  3.20it/s]\n",
            "    17/100     4.35G        1.06        1.08       0.375           1: 100% 29/29 [00:09<00:00,  3.14it/s]\n",
            "    18/100     4.35G        1.06        1.09       0.371           1: 100% 29/29 [00:09<00:00,  2.91it/s]\n",
            "    19/100     4.35G        1.06        1.09       0.402           1: 100% 29/29 [00:09<00:00,  2.94it/s]\n",
            "    20/100     4.35G        1.07        1.07       0.439           1: 100% 29/29 [00:08<00:00,  3.34it/s]\n",
            "    21/100     4.35G        1.06        1.06       0.437           1: 100% 29/29 [00:09<00:00,  3.05it/s]\n",
            "    22/100     4.35G        1.05        1.07       0.411           1: 100% 29/29 [00:09<00:00,  2.92it/s]\n",
            "    23/100     4.35G        1.06        1.05       0.422           1: 100% 29/29 [00:09<00:00,  2.96it/s]\n",
            "    24/100     4.35G        1.04        1.08         0.4           1: 100% 29/29 [00:10<00:00,  2.85it/s]\n",
            "    25/100     4.35G        1.05         1.1       0.408           1: 100% 29/29 [00:10<00:00,  2.90it/s]\n",
            "    26/100     4.35G        1.05        1.11       0.366           1: 100% 29/29 [00:10<00:00,  2.89it/s]\n",
            "    27/100     4.35G        1.04        1.16       0.366           1: 100% 29/29 [00:08<00:00,  3.34it/s]\n",
            "    28/100     4.35G        1.05        1.06       0.466           1: 100% 29/29 [00:09<00:00,  2.93it/s]\n",
            "    29/100     4.35G        1.04         1.1       0.413           1: 100% 29/29 [00:09<00:00,  2.94it/s]\n",
            "    30/100     4.35G        1.04         1.1       0.402           1: 100% 29/29 [00:09<00:00,  2.97it/s]\n",
            "    31/100     4.35G        1.04        1.34       0.364           1: 100% 29/29 [00:08<00:00,  3.33it/s]\n",
            "    32/100     4.35G        1.03        1.05       0.455           1: 100% 29/29 [00:09<00:00,  2.91it/s]\n",
            "    33/100     4.35G        1.04        1.05       0.477           1: 100% 29/29 [00:09<00:00,  2.93it/s]\n",
            "    34/100     4.35G        1.03        1.09       0.437           1: 100% 29/29 [00:09<00:00,  3.07it/s]\n",
            "    35/100     4.35G        1.03        1.05       0.466           1: 100% 29/29 [00:09<00:00,  3.19it/s]\n",
            "    36/100     4.35G        1.04        1.07       0.424           1: 100% 29/29 [00:10<00:00,  2.90it/s]\n",
            "    37/100     4.35G        1.02         1.1       0.457           1: 100% 29/29 [00:09<00:00,  2.91it/s]\n",
            "    38/100     4.35G        1.03        1.04        0.47           1: 100% 29/29 [00:08<00:00,  3.34it/s]\n",
            "    39/100     4.35G        1.04        1.13       0.397           1: 100% 29/29 [00:09<00:00,  2.94it/s]\n",
            "    40/100     4.35G        1.03        1.09       0.435           1: 100% 29/29 [00:09<00:00,  2.94it/s]\n",
            "    41/100     4.35G        1.04         1.1       0.442           1: 100% 29/29 [00:09<00:00,  2.96it/s]\n",
            "    42/100     4.35G        1.03        1.05       0.466           1: 100% 29/29 [00:08<00:00,  3.34it/s]\n",
            "    43/100     4.35G        1.04        1.44         0.4           1: 100% 29/29 [00:09<00:00,  2.94it/s]\n",
            "    44/100     4.35G        1.03        1.27       0.384           1: 100% 29/29 [00:09<00:00,  2.91it/s]\n",
            "    45/100     4.35G        1.03        1.08       0.419           1: 100% 29/29 [00:09<00:00,  3.15it/s]\n",
            "    46/100     4.35G        1.03        1.11       0.442           1: 100% 29/29 [00:09<00:00,  3.09it/s]\n",
            "    47/100     4.35G        1.03        1.06       0.446           1: 100% 29/29 [00:09<00:00,  2.92it/s]\n",
            "    48/100     4.35G        1.02        1.06       0.424           1: 100% 29/29 [00:10<00:00,  2.89it/s]\n",
            "    49/100     4.35G        1.04        1.13       0.413           1: 100% 29/29 [00:08<00:00,  3.31it/s]\n",
            "    50/100     4.35G        1.03        1.06        0.47           1: 100% 29/29 [00:10<00:00,  2.66it/s]\n",
            "    51/100     4.35G        1.01        1.06       0.453           1: 100% 29/29 [00:09<00:00,  2.92it/s]\n",
            "    52/100     4.35G        1.02        1.13       0.395           1: 100% 29/29 [00:09<00:00,  2.91it/s]\n",
            "    53/100     4.35G        1.03        1.02       0.475           1: 100% 29/29 [00:08<00:00,  3.34it/s]\n",
            "    54/100     4.35G        1.01        1.09       0.369           1: 100% 29/29 [00:09<00:00,  2.93it/s]\n",
            "    55/100     4.35G        1.02        1.07       0.391           1: 100% 29/29 [00:10<00:00,  2.90it/s]\n",
            "    56/100     4.35G        1.02        1.03       0.481           1: 100% 29/29 [00:09<00:00,  3.09it/s]\n",
            "    57/100     4.35G           1        1.08       0.428           1: 100% 29/29 [00:08<00:00,  3.23it/s]\n",
            "    58/100     4.35G        1.01        1.06       0.439           1: 100% 29/29 [00:09<00:00,  2.94it/s]\n",
            "    59/100     4.35G        1.01        1.29       0.464           1: 100% 29/29 [00:09<00:00,  2.92it/s]\n",
            "    60/100     4.35G        1.02        1.41       0.475           1: 100% 29/29 [00:08<00:00,  3.35it/s]\n",
            "    61/100     4.35G        1.01        1.03       0.479           1: 100% 29/29 [00:09<00:00,  2.93it/s]\n",
            "    62/100     4.35G           1        1.03       0.501           1: 100% 29/29 [00:09<00:00,  2.96it/s]\n",
            "    63/100     4.35G        1.02        1.19       0.435           1: 100% 29/29 [00:10<00:00,  2.85it/s]\n",
            "    64/100     4.35G       0.993        1.03       0.481           1: 100% 29/29 [00:08<00:00,  3.38it/s]\n",
            "    65/100     4.35G           1        1.07       0.459           1: 100% 29/29 [00:09<00:00,  2.95it/s]\n",
            "    66/100     4.35G        1.01        1.03       0.486           1: 100% 29/29 [00:09<00:00,  2.93it/s]\n",
            "    67/100     4.35G        1.01       0.999        0.53           1: 100% 29/29 [00:08<00:00,  3.36it/s]\n",
            "    68/100     4.35G       0.986        1.04       0.466           1: 100% 29/29 [00:09<00:00,  3.02it/s]\n",
            "    69/100     4.35G           1        1.01        0.53           1: 100% 29/29 [00:10<00:00,  2.89it/s]\n",
            "    70/100     4.35G       0.994        1.07       0.457           1: 100% 29/29 [00:09<00:00,  2.90it/s]\n",
            "    71/100     4.35G        1.01        1.01        0.51           1: 100% 29/29 [00:08<00:00,  3.34it/s]\n",
            "    72/100     4.35G       0.985       0.998       0.503           1: 100% 29/29 [00:10<00:00,  2.89it/s]\n",
            "    73/100     4.35G       0.987           1       0.514           1: 100% 29/29 [00:09<00:00,  2.93it/s]\n",
            "    74/100     4.35G       0.988           1       0.508           1: 100% 29/29 [00:09<00:00,  3.15it/s]\n",
            "    75/100     4.35G       0.977       0.991       0.525           1: 100% 29/29 [00:10<00:00,  2.75it/s]\n",
            "    76/100     4.35G       0.993        1.02       0.479           1: 100% 29/29 [00:09<00:00,  2.94it/s]\n",
            "    77/100     4.35G       0.984        1.04       0.499           1: 100% 29/29 [00:09<00:00,  2.94it/s]\n",
            "    78/100     4.35G       0.978       0.988       0.536           1: 100% 29/29 [00:09<00:00,  3.02it/s]\n",
            "    79/100     4.35G        0.98        1.03       0.506           1: 100% 29/29 [00:09<00:00,  3.20it/s]\n",
            "    80/100     4.35G       0.978       0.994       0.523           1: 100% 29/29 [00:10<00:00,  2.88it/s]\n",
            "    81/100     4.35G       0.987       0.995        0.51           1: 100% 29/29 [00:09<00:00,  2.97it/s]\n",
            "    82/100     4.35G       0.968       0.997        0.53           1: 100% 29/29 [00:08<00:00,  3.37it/s]\n",
            "    83/100     4.35G       0.975        1.09       0.459           1: 100% 29/29 [00:09<00:00,  2.95it/s]\n",
            "    84/100     4.35G       0.979        1.01        0.51           1: 100% 29/29 [00:10<00:00,  2.89it/s]\n",
            "    85/100     4.35G        0.96       0.986       0.539           1: 100% 29/29 [00:09<00:00,  3.02it/s]\n",
            "    86/100     4.35G       0.958       0.973       0.539           1: 100% 29/29 [00:08<00:00,  3.27it/s]\n",
            "    87/100     4.35G       0.966       0.981       0.517           1: 100% 29/29 [00:09<00:00,  2.96it/s]\n",
            "    88/100     4.35G       0.965       0.977       0.543           1: 100% 29/29 [00:09<00:00,  2.91it/s]\n",
            "    89/100     4.35G       0.965       0.973       0.554           1: 100% 29/29 [00:08<00:00,  3.30it/s]\n",
            "    90/100     4.35G       0.957       0.971       0.486           1: 100% 29/29 [00:09<00:00,  3.15it/s]\n",
            "    91/100     4.35G       0.959       0.968       0.543           1: 100% 29/29 [00:09<00:00,  2.94it/s]\n",
            "    92/100     4.35G       0.954       0.972       0.525           1: 100% 29/29 [00:09<00:00,  2.91it/s]\n",
            "    93/100     4.35G       0.957       0.969       0.517           1: 100% 29/29 [00:08<00:00,  3.35it/s]\n",
            "    94/100     4.35G       0.959        0.98        0.51           1: 100% 29/29 [00:10<00:00,  2.87it/s]\n",
            "    95/100     4.35G       0.951       0.971       0.499           1: 100% 29/29 [00:10<00:00,  2.84it/s]\n",
            "    96/100     4.35G       0.937       0.973       0.528           1: 100% 29/29 [00:09<00:00,  2.94it/s]\n",
            "    97/100     4.35G       0.955       0.973        0.53           1: 100% 29/29 [00:08<00:00,  3.24it/s]\n",
            "    98/100     4.35G       0.943       0.957       0.554           1: 100% 29/29 [00:10<00:00,  2.89it/s]\n",
            "    99/100     4.35G       0.947       0.965       0.528           1: 100% 29/29 [00:09<00:00,  2.98it/s]\n",
            "   100/100     4.35G       0.945       0.957       0.541           1: 100% 29/29 [00:11<00:00,  2.62it/s]\n",
            "\n",
            "Training complete (0.278 hours)\n",
            "Results saved to \u001b[1mruns/train-cls/exp3\u001b[0m\n",
            "Predict:         python classify/predict.py --weights runs/train-cls/exp3/weights/best.pt --source im.jpg\n",
            "Validate:        python classify/val.py --weights runs/train-cls/exp3/weights/best.pt --data /content/all_data_balanced\n",
            "Export:          python export.py --weights runs/train-cls/exp3/weights/best.pt --include onnx\n",
            "PyTorch Hub:     model = torch.hub.load('ultralytics/yolov5', 'custom', 'runs/train-cls/exp3/weights/best.pt')\n",
            "Visualize:       https://netron.app\n",
            "\n"
          ]
        }
      ],
      "source": [
        "!python classify/train.py --model yolov5l-cls.pt --data '/content/all_data_balanced' --epochs 100 --pretrained weights/yolov5l-cls.pt --device 0"
      ]
    },
    {
      "cell_type": "code",
      "execution_count": 28,
      "metadata": {
        "colab": {
          "base_uri": "https://localhost:8080/"
        },
        "id": "bk5L7ITCAZ8h",
        "outputId": "4d5bc181-d5dd-4f3a-b6c3-09c32abd4366"
      },
      "outputs": [
        {
          "output_type": "stream",
          "name": "stdout",
          "text": [
            "WARNING ⚠️ 'ultralytics.yolo.v8' is deprecated since '8.0.136' and will be removed in '8.1.0'. Please use 'ultralytics.models.yolo' instead.\n",
            "WARNING ⚠️ 'ultralytics.yolo.utils' is deprecated since '8.0.136' and will be removed in '8.1.0'. Please use 'ultralytics.utils' instead.\n",
            "Note this warning may be related to loading older models. You can update your model to current structure with:\n",
            "    import torch\n",
            "    ckpt = torch.load(\"model.pt\")  # applies to both official and custom models\n",
            "    torch.save(ckpt, \"updated-model.pt\")\n",
            "\n",
            "\u001b[34m\u001b[1mclassify/val: \u001b[0mdata=/content/all_data_balanced, weights=['/content/yolov5/runs/train-cls/exp3/weights/best.pt'], batch_size=128, imgsz=224, device=, workers=8, verbose=True, project=runs/val-cls, name=exp, exist_ok=False, half=False, dnn=False\n",
            "YOLOv5 🚀 v7.0-193-g485da42 Python-3.10.12 torch-2.0.1+cu118 CUDA:0 (Tesla T4, 15102MiB)\n",
            "\n",
            "Fusing layers... \n",
            "Model summary: 215 layers, 25258819 parameters, 0 gradients, 68.3 GFLOPs\n",
            "validating: 100% 4/4 [00:01<00:00,  2.14it/s]\n",
            "                   Class      Images    top1_acc    top5_acc\n",
            "                     all         453       0.554           1\n",
            "                   major         151       0.722           1\n",
            "                   minor         151       0.583           1\n",
            "                moderate         151       0.358           1\n",
            "Speed: 0.1ms pre-process, 2.3ms inference, 0.1ms post-process per image at shape (1, 3, 224, 224)\n",
            "Results saved to \u001b[1mruns/val-cls/exp4\u001b[0m\n"
          ]
        }
      ],
      "source": [
        "!python classify/val.py --weights /content/yolov5/runs/train-cls/exp3/weights/best.pt --data /content/all_data_balanced"
      ]
    },
    {
      "cell_type": "code",
      "source": [],
      "metadata": {
        "id": "Desb357KqIqH"
      },
      "execution_count": null,
      "outputs": []
    }
  ],
  "metadata": {
    "accelerator": "GPU",
    "colab": {
      "provenance": [],
      "gpuType": "T4",
      "include_colab_link": true
    },
    "kernelspec": {
      "display_name": "Python 3",
      "name": "python3"
    },
    "language_info": {
      "name": "python"
    }
  },
  "nbformat": 4,
  "nbformat_minor": 0
}